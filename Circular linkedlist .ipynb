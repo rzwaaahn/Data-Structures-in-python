{
 "cells": [
  {
   "cell_type": "code",
   "execution_count": 3,
   "id": "84d74ccb-2279-4d0d-bddf-062c6d4dff37",
   "metadata": {},
   "outputs": [
    {
     "ename": "TypeError",
     "evalue": "Node() takes no arguments",
     "output_type": "error",
     "traceback": [
      "\u001b[1;31m---------------------------------------------------------------------------\u001b[0m",
      "\u001b[1;31mTypeError\u001b[0m                                 Traceback (most recent call last)",
      "Cell \u001b[1;32mIn[3], line 54\u001b[0m\n\u001b[0;32m     52\u001b[0m         \u001b[38;5;28mprint\u001b[39m(\u001b[38;5;124m\"\u001b[39m\u001b[38;5;124m(back to head)\u001b[39m\u001b[38;5;124m\"\u001b[39m)\n\u001b[0;32m     53\u001b[0m cll \u001b[38;5;241m=\u001b[39m CircularLinkedList()\n\u001b[1;32m---> 54\u001b[0m cll\u001b[38;5;241m.\u001b[39mappend(\u001b[38;5;241m1\u001b[39m)\n\u001b[0;32m     55\u001b[0m cll\u001b[38;5;241m.\u001b[39mappend(\u001b[38;5;241m2\u001b[39m)\n\u001b[0;32m     56\u001b[0m cll\u001b[38;5;241m.\u001b[39mappend(\u001b[38;5;241m3\u001b[39m)\n",
      "Cell \u001b[1;32mIn[3], line 9\u001b[0m, in \u001b[0;36mCircularLinkedList.append\u001b[1;34m(self, data)\u001b[0m\n\u001b[0;32m      8\u001b[0m \u001b[38;5;28;01mdef\u001b[39;00m \u001b[38;5;21mappend\u001b[39m(\u001b[38;5;28mself\u001b[39m, data):\n\u001b[1;32m----> 9\u001b[0m     new_node \u001b[38;5;241m=\u001b[39m Node(data)\n\u001b[0;32m     10\u001b[0m     \u001b[38;5;28;01mif\u001b[39;00m \u001b[38;5;129;01mnot\u001b[39;00m \u001b[38;5;28mself\u001b[39m\u001b[38;5;241m.\u001b[39mhead:  \n\u001b[0;32m     11\u001b[0m         \u001b[38;5;28mself\u001b[39m\u001b[38;5;241m.\u001b[39mhead \u001b[38;5;241m=\u001b[39m new_node\n",
      "\u001b[1;31mTypeError\u001b[0m: Node() takes no arguments"
     ]
    }
   ],
   "source": [
    "class Node:\n",
    "    def _init_(self, data):\n",
    "        self.data = data  \n",
    "        self.next = None  \n",
    "class CircularLinkedList:\n",
    "    def _init_(self):\n",
    "        self.head = None  \n",
    "    def append(self, data):\n",
    "        new_node = Node(data)\n",
    "        if not self.head:  \n",
    "            self.head = new_node\n",
    "            self.head.next = self.head \n",
    "            return\n",
    "        temp = self.head\n",
    "        while temp.next != self.head:  \n",
    "            temp = temp.next\n",
    "        temp.next = new_node  \n",
    "        new_node.next = self.head  \n",
    "    def delete(self, key):\n",
    "        if not self.head:  \n",
    "            print(\"List is empty\")\n",
    "            return\n",
    "        if self.head.data == key:\n",
    "            if self.head.next == self.head:  \n",
    "                self.head = None\n",
    "                return\n",
    "            temp = self.head\n",
    "            while temp.next != self.head:\n",
    "                temp = temp.next\n",
    "            temp.next = self.head.next  \n",
    "            self.head = self.head.next  \n",
    "            return\n",
    "        prev = self.head\n",
    "        current = self.head.next\n",
    "        while current != self.head:\n",
    "            if current.data == key:\n",
    "                prev.next = current.next\n",
    "                return\n",
    "            prev = current\n",
    "            current = current.next\n",
    "        print(f\"Node with data {key} not found.\")\n",
    "    def print_list(self):\n",
    "        if not self.head:\n",
    "            print(\"List is empty\")\n",
    "            return\n",
    "        temp = self.head\n",
    "        while True:\n",
    "            print(temp.data, end=\" -> \")\n",
    "            temp = temp.next\n",
    "            if temp == self.head:\n",
    "                break\n",
    "        print(\"(back to head)\")\n",
    "cll = CircularLinkedList()\n",
    "cll.append(1)\n",
    "cll.append(2)\n",
    "cll.append(3)\n",
    "cll.append(4)\n",
    "print(\"Original Circular List:\")\n",
    "cll.print_list()\n",
    "cll.delete(3)\n",
    "print(\"List After Deletion of 3:\")\n",
    "cll.print_list()\n",
    "cll.delete(5)"
   ]
  },
  {
   "cell_type": "code",
   "execution_count": null,
   "id": "8f343882-225f-473c-98fb-431f945e730f",
   "metadata": {},
   "outputs": [],
   "source": []
  }
 ],
 "metadata": {
  "kernelspec": {
   "display_name": "Python [conda env:base] *",
   "language": "python",
   "name": "conda-base-py"
  },
  "language_info": {
   "codemirror_mode": {
    "name": "ipython",
    "version": 3
   },
   "file_extension": ".py",
   "mimetype": "text/x-python",
   "name": "python",
   "nbconvert_exporter": "python",
   "pygments_lexer": "ipython3",
   "version": "3.12.7"
  }
 },
 "nbformat": 4,
 "nbformat_minor": 5
}

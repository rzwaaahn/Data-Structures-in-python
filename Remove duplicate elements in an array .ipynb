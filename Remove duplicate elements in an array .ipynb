{
 "cells": [
  {
   "cell_type": "code",
   "execution_count": 15,
   "id": "b9405468-0414-4375-91e1-73698de76c74",
   "metadata": {},
   "outputs": [
    {
     "name": "stdout",
     "output_type": "stream",
     "text": [
      "[10]\n"
     ]
    }
   ],
   "source": [
    "# REMOVE the DUPLICATE elements in an array\n",
    "# Looping and membership\n",
    "\n",
    "import numpy as np\n",
    "x=np.array([10,20,30,40,50,10,0,30,100])\n",
    "def r_dup(x):\n",
    "    new_arr=[]\n",
    "    for i in x:\n",
    "        if i not in new_arr:\n",
    "            new_arr.append(i)\n",
    "        return new_arr\n",
    "result=r_dup(x)\n",
    "type(result)\n",
    "print(result)"
   ]
  },
  {
   "cell_type": "code",
   "execution_count": 17,
   "id": "f151cf6f-590a-4499-b59b-d3f9378d4d93",
   "metadata": {},
   "outputs": [
    {
     "name": "stdout",
     "output_type": "stream",
     "text": [
      "[  0 100  40  10  50  20  30]\n"
     ]
    }
   ],
   "source": [
    "# Removing using TYPE CONVERSION \n",
    "import numpy as np\n",
    "x=np.array([10,20,30,40,50,10,0,30,100])\n",
    "def r_dup(x):\n",
    "    res=list(set(x)) # TYPE CONVERSION\n",
    "    return np.array(res)\n",
    "result=r_dup(x)\n",
    "type(result)\n",
    "print(result)"
   ]
  },
  {
   "cell_type": "code",
   "execution_count": null,
   "id": "ac7d5e44-c39b-4ce2-bdf7-5dc911a03eaf",
   "metadata": {},
   "outputs": [],
   "source": []
  }
 ],
 "metadata": {
  "kernelspec": {
   "display_name": "Python [conda env:base] *",
   "language": "python",
   "name": "conda-base-py"
  },
  "language_info": {
   "codemirror_mode": {
    "name": "ipython",
    "version": 3
   },
   "file_extension": ".py",
   "mimetype": "text/x-python",
   "name": "python",
   "nbconvert_exporter": "python",
   "pygments_lexer": "ipython3",
   "version": "3.12.7"
  }
 },
 "nbformat": 4,
 "nbformat_minor": 5
}

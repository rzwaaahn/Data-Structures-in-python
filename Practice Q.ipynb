{
 "cells": [
  {
   "cell_type": "code",
   "execution_count": 25,
   "id": "d8f7c761-d22e-4bfe-991b-5c7c1be12b71",
   "metadata": {},
   "outputs": [
    {
     "name": "stdout",
     "output_type": "stream",
     "text": [
      "Move disk 1 from rod A to rod C\n",
      "Move disk 2 from rod A to rod B\n",
      "Move disk 1 from rod C to rod B\n",
      "Move disk 3 from rod A to rod C\n",
      "Move disk 1 from rod B to rod A\n",
      "Move disk 2 from rod B to rod C\n",
      "Move disk 1 from rod A to rod C\n"
     ]
    }
   ],
   "source": [
    "#Write a program to implement the Tower of Hanoi problem.\n",
    "\n",
    "def TowerOfHanoi(n, from_rod, to_rod, aux_rod):\n",
    "    if n == 0:\n",
    "        return\n",
    "    TowerOfHanoi(n-1, from_rod, aux_rod, to_rod)\n",
    "    print(\"Move disk\", n, \"from rod\", from_rod, \"to rod\", to_rod)\n",
    "    TowerOfHanoi(n-1, aux_rod, to_rod, from_rod)\n",
    "N = 3\n",
    "TowerOfHanoi(N, 'A', 'C', 'B')"
   ]
  },
  {
   "cell_type": "code",
   "execution_count": 27,
   "id": "8dc986bf-db03-4be5-95ff-87a1dd498762",
   "metadata": {},
   "outputs": [
    {
     "name": "stdout",
     "output_type": "stream",
     "text": [
      "Sum of digits in 12345 is 15\n"
     ]
    }
   ],
   "source": [
    "#Write a program to find the sum of digits of a number using recursion.\n",
    "\n",
    "def sum_of_digit( n ):\n",
    "    if n == 0:\n",
    "        return 0\n",
    "    return (n % 10 + sum_of_digit(int(n / 10)))\n",
    "num = 12345\n",
    "result = sum_of_digit(num)\n",
    "print(\"Sum of digits in\",num,\"is\", result)"
   ]
  },
  {
   "cell_type": "code",
   "execution_count": 29,
   "id": "a1088095-fba4-4bab-ac0e-cbc3d3ebaa94",
   "metadata": {},
   "outputs": [
    {
     "name": "stdout",
     "output_type": "stream",
     "text": [
      "GCD of 98 and 56 is 14\n"
     ]
    }
   ],
   "source": [
    "#Write a recursive function for GCD calculation.\n",
    "\n",
    "def gcd(a, b):\n",
    "    result = min(a, b)\n",
    "    while result:\n",
    "        if a % result == 0 and b % result == 0:\n",
    "            break\n",
    "        result -= 1\n",
    "    return result\n",
    "if __name__ == '__main__':\n",
    "    a = 98\n",
    "    b = 56\n",
    "    print(f\"GCD of {a} and {b} is {gcd(a, b)}\")"
   ]
  },
  {
   "cell_type": "code",
   "execution_count": 31,
   "id": "8862c384-8d12-4143-bd4f-40206ebdbbd3",
   "metadata": {},
   "outputs": [
    {
     "name": "stdout",
     "output_type": "stream",
     "text": [
      "0 1 1 2 3 5 8 13 21 "
     ]
    }
   ],
   "source": [
    "#Write a program to print Fibonacci series using mutual recursion.\n",
    "\n",
    "def fib(n, prev1, prev2):\n",
    "    if n < 3:\n",
    "        return\n",
    "    fn = prev1 + prev2\n",
    "    prev2 = prev1\n",
    "    prev1 = fn\n",
    "    print(fn, end=\" \")\n",
    "    fib(n - 1, prev1, prev2)\n",
    "    \n",
    "def print_fib(n):\n",
    "    if n < 1:\n",
    "        print(\"Invalid number of terms\")\n",
    "    elif n == 1:\n",
    "        print(0)\n",
    "    elif n == 2:\n",
    "        print(\"0 1\")\n",
    "    else:\n",
    "        print(\"0 1\", end=\" \")\n",
    "        fib(n, 1, 0)\n",
    "if __name__ == \"__main__\":\n",
    "    n = 9\n",
    "    print_fib(n)"
   ]
  },
  {
   "cell_type": "code",
   "execution_count": 33,
   "id": "01e7fc41-acc0-42e2-a959-b101ee58c1d8",
   "metadata": {},
   "outputs": [
    {
     "name": "stdout",
     "output_type": "stream",
     "text": [
      "1010\n"
     ]
    }
   ],
   "source": [
    "#Write a recursive function to convert a decimal number to its equivalent binary number.\n",
    "\n",
    "def find( decimal_number ):\n",
    "    if decimal_number == 0:\n",
    "        return 0\n",
    "    else:\n",
    "        return (decimal_number % 2 + 10 *\n",
    "                find(int(decimal_number // 2)))\n",
    " \n",
    "# Driver Code\n",
    "decimal_number = 10\n",
    "print(find(decimal_number))"
   ]
  },
  {
   "cell_type": "code",
   "execution_count": 35,
   "id": "00d58389-40cc-4fc9-8539-420d22d6f554",
   "metadata": {},
   "outputs": [
    {
     "name": "stdout",
     "output_type": "stream",
     "text": [
      "count of zero is 6\n"
     ]
    }
   ],
   "source": [
    "#Write a recursive function to count the number of zeroes in an integer.\n",
    "\n",
    "class GFG :\n",
    "    @staticmethod\n",
    "    def  firstzeroindex( arr,  n) :\n",
    "        i = 0\n",
    "        while (i < n) :\n",
    "            if (arr[i] == 0) :\n",
    "                return i\n",
    "            i += 1\n",
    "        return -1\n",
    "    @staticmethod\n",
    "    def main( args) :\n",
    "        arr = [1, 1, 1, 1, 1, 0, 0, 0, 0, 0, 0]\n",
    "        n = len(arr)\n",
    "        x = GFG.firstzeroindex(arr, n)\n",
    "        if (x == -1) :\n",
    "            print(\"Count of zero is 0\")\n",
    "        else :\n",
    "            print(\"count of zero is \", end =\"\")\n",
    "            print(n - x)\n",
    "if __name__==\"__main__\":\n",
    "    GFG.main([])"
   ]
  },
  {
   "cell_type": "code",
   "execution_count": 37,
   "id": "a6d261fe-bb1a-4dc5-8df2-5c677557e2f6",
   "metadata": {},
   "outputs": [
    {
     "name": "stdout",
     "output_type": "stream",
     "text": [
      "15\n"
     ]
    }
   ],
   "source": [
    "#Write a recursive function to find the sum of the first n natural numbers.\n",
    "\n",
    "def recurSum(n): \n",
    "    if n <= 1: \n",
    "        return n \n",
    "    return n + recurSum(n - 1) \n",
    "n = 5\n",
    "print(recurSum(n))"
   ]
  },
  {
   "cell_type": "code",
   "execution_count": 39,
   "id": "f97c5377-074c-4b00-92cc-48be983aefcc",
   "metadata": {},
   "outputs": [
    {
     "name": "stdout",
     "output_type": "stream",
     "text": [
      "5\n"
     ]
    }
   ],
   "source": [
    "#Write a recursive function to count the number of digits in an integer\n",
    "\n",
    "def countDigit(n):\n",
    "    if n == 0:\n",
    "        return 1\n",
    "    count = 0\n",
    "    while n != 0:\n",
    "        n = n // 10\n",
    "        count += 1\n",
    "    return count\n",
    "if __name__ == \"__main__\":\n",
    "  n = 58964\n",
    "  print(countDigit(n))"
   ]
  },
  {
   "cell_type": "code",
   "execution_count": 41,
   "id": "23f9fabe-cc43-4928-884d-6cbc2c8d8680",
   "metadata": {},
   "outputs": [
    {
     "name": "stdout",
     "output_type": "stream",
     "text": [
      "5\n"
     ]
    }
   ],
   "source": [
    "#Write a recursive function to count the number of odd digits in an integer.\n",
    "\n",
    "def count_odd_digits(n):\n",
    "    if n < 10:\n",
    "        return 1 if n % 2 == 1 else 0\n",
    "    return (1 if (n % 10) % 2 == 1 else 0) + count_odd_digits(n // 10)\n",
    "num = 123456789\n",
    "print(count_odd_digits(num))  # Output: 5\n"
   ]
  },
  {
   "cell_type": "code",
   "execution_count": 43,
   "id": "40674dd5-40c7-4b44-9904-b1b4559ae41a",
   "metadata": {},
   "outputs": [
    {
     "name": "stdout",
     "output_type": "stream",
     "text": [
      "15\n"
     ]
    }
   ],
   "source": [
    "#write a recursive function to find the length of a string.\n",
    "\n",
    "str = \"Mohammed Rizwan\"\n",
    "def string_length(str) :\n",
    "    if str == '':\n",
    "        return 0\n",
    "    else :\n",
    "        return 1 + string_length(str[1:]) \n",
    "print (string_length(str))"
   ]
  },
  {
   "cell_type": "code",
   "execution_count": 45,
   "id": "c5390339-107f-4723-964e-4b3e0da45d77",
   "metadata": {},
   "outputs": [
    {
     "name": "stdout",
     "output_type": "stream",
     "text": [
      "nawziR demmahoM"
     ]
    }
   ],
   "source": [
    "#Write a recursive function to print a string in reverse order.\n",
    "\n",
    "def reverse(string):\n",
    "    if len(string) == 0:\n",
    "        return\n",
    "     \n",
    "    temp = string[0]\n",
    "    reverse(string[1:])\n",
    "    print(temp, end='')\n",
    "string = \"Mohammed Rizwan\"\n",
    "reverse(string)"
   ]
  },
  {
   "cell_type": "code",
   "execution_count": 47,
   "id": "5940074a-523a-410a-8823-f2d3882250bf",
   "metadata": {},
   "outputs": [
    {
     "name": "stdout",
     "output_type": "stream",
     "text": [
      "2\n"
     ]
    }
   ],
   "source": [
    "#write a recursive function to count the number of vowels in a string.\n",
    "\n",
    "def isVowel(ch): \n",
    "    return ch.upper() in ['A', 'E', 'I', 'O', 'U'] \n",
    "def countVowels(str): \n",
    "    count = 0\n",
    "    for i in range(len(str)): \n",
    "        if isVowel(str[i]): \n",
    "            count += 1\n",
    "    return count \n",
    "str = 'abc de' \n",
    "print(countVowels(str))"
   ]
  },
  {
   "cell_type": "code",
   "execution_count": null,
   "id": "eacf2352-3ab4-49b6-99f2-f7d30e726537",
   "metadata": {},
   "outputs": [],
   "source": []
  }
 ],
 "metadata": {
  "kernelspec": {
   "display_name": "Python [conda env:base] *",
   "language": "python",
   "name": "conda-base-py"
  },
  "language_info": {
   "codemirror_mode": {
    "name": "ipython",
    "version": 3
   },
   "file_extension": ".py",
   "mimetype": "text/x-python",
   "name": "python",
   "nbconvert_exporter": "python",
   "pygments_lexer": "ipython3",
   "version": "3.12.7"
  }
 },
 "nbformat": 4,
 "nbformat_minor": 5
}

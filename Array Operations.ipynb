{
 "cells": [
  {
   "cell_type": "code",
   "execution_count": 1,
   "id": "958ef457-daab-401e-becf-7c3df08a85b3",
   "metadata": {},
   "outputs": [
    {
     "name": "stdout",
     "output_type": "stream",
     "text": [
      "10\n",
      "40\n"
     ]
    }
   ],
   "source": [
    "import array as arr\n",
    "x=arr.array('i',[10,20,30,40,50])\n",
    "print(x[0]) # accessing the elements\n",
    "print(x[3])"
   ]
  },
  {
   "cell_type": "code",
   "execution_count": 3,
   "id": "af9faf5b-c6c7-42b0-9364-5cc3e489e260",
   "metadata": {},
   "outputs": [
    {
     "name": "stdout",
     "output_type": "stream",
     "text": [
      "10\n",
      "30\n"
     ]
    }
   ],
   "source": [
    "import numpy as np\n",
    "x =np.array([10,20,30,40,50])\n",
    "print(x[0])\n",
    "print(x[2])"
   ]
  },
  {
   "cell_type": "code",
   "execution_count": 7,
   "id": "02b29bc3-0d3b-490e-b8cb-37f6f8772482",
   "metadata": {},
   "outputs": [
    {
     "name": "stdout",
     "output_type": "stream",
     "text": [
      "array('i', [10, 20, 80, 30, 40, 50])\n"
     ]
    }
   ],
   "source": [
    "# To insert\n",
    "import array as arr\n",
    "x=arr.array('i',[10,20,30,40,50])\n",
    "x.insert(2,80) # insert operation\n",
    "print(x)"
   ]
  },
  {
   "cell_type": "code",
   "execution_count": 11,
   "id": "498c1b0b-3d7b-41a2-9c3d-0f9623795150",
   "metadata": {},
   "outputs": [
    {
     "name": "stdout",
     "output_type": "stream",
     "text": [
      "[ 10  20 100  30  40  50]\n"
     ]
    }
   ],
   "source": [
    "import numpy as np\n",
    "y = np.array([10,20,30,40,50])\n",
    "z = np.insert(y,2,100)\n",
    "print(z)"
   ]
  },
  {
   "cell_type": "code",
   "execution_count": 15,
   "id": "c7b9754d-e062-4522-9dff-d862535e7551",
   "metadata": {},
   "outputs": [
    {
     "name": "stdout",
     "output_type": "stream",
     "text": [
      "array('i', [10, 20, 30, 50])\n"
     ]
    }
   ],
   "source": [
    "# To Remove\n",
    "import array as arr\n",
    "x=arr.array('i',[10,20,30,40,50])\n",
    "x.remove(40) # Remove operation\n",
    "print(x)"
   ]
  },
  {
   "cell_type": "code",
   "execution_count": 23,
   "id": "694b25e0-c6b2-4586-9761-f2cbf809ec04",
   "metadata": {},
   "outputs": [
    {
     "name": "stdout",
     "output_type": "stream",
     "text": [
      "3\n"
     ]
    }
   ],
   "source": [
    "# To Search\n",
    "print(x.index(50)) # Search Operation "
   ]
  },
  {
   "cell_type": "code",
   "execution_count": 25,
   "id": "a5a856f5-500b-4cbf-9769-539090e1c5ef",
   "metadata": {},
   "outputs": [
    {
     "name": "stdout",
     "output_type": "stream",
     "text": [
      "array('i', [100, 20, 30, 50])\n"
     ]
    }
   ],
   "source": [
    "# Update Operation\n",
    "\n",
    "x[0]=100\n",
    "print(x)"
   ]
  },
  {
   "cell_type": "code",
   "execution_count": null,
   "id": "cae0d79d-a89f-4865-b676-1f76e7c4a55a",
   "metadata": {},
   "outputs": [],
   "source": []
  }
 ],
 "metadata": {
  "kernelspec": {
   "display_name": "Python [conda env:base] *",
   "language": "python",
   "name": "conda-base-py"
  },
  "language_info": {
   "codemirror_mode": {
    "name": "ipython",
    "version": 3
   },
   "file_extension": ".py",
   "mimetype": "text/x-python",
   "name": "python",
   "nbconvert_exporter": "python",
   "pygments_lexer": "ipython3",
   "version": "3.12.7"
  }
 },
 "nbformat": 4,
 "nbformat_minor": 5
}

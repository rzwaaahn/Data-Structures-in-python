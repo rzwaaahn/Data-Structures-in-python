{
 "cells": [
  {
   "cell_type": "code",
   "execution_count": 3,
   "id": "c566bc4f-0309-4e35-8ca9-4a9bb8ac45b9",
   "metadata": {},
   "outputs": [
    {
     "name": "stdout",
     "output_type": "stream",
     "text": [
      "30.0\n"
     ]
    }
   ],
   "source": [
    "# Find the SUM and AVERAGE of an array element \n",
    "\n",
    "\n",
    "import numpy as np\n",
    "x=np.array([10,20,30,40,50])\n",
    "def avg(x):\n",
    "    l=len(x)\n",
    "    add_all=sum(x)\n",
    "    average=add_all/l\n",
    "    return average\n",
    "\n",
    "result=avg(x)\n",
    "print(result)"
   ]
  },
  {
   "cell_type": "code",
   "execution_count": null,
   "id": "352af930-40e3-4e0c-a7fb-975d79faf80d",
   "metadata": {},
   "outputs": [],
   "source": []
  }
 ],
 "metadata": {
  "kernelspec": {
   "display_name": "Python [conda env:base] *",
   "language": "python",
   "name": "conda-base-py"
  },
  "language_info": {
   "codemirror_mode": {
    "name": "ipython",
    "version": 3
   },
   "file_extension": ".py",
   "mimetype": "text/x-python",
   "name": "python",
   "nbconvert_exporter": "python",
   "pygments_lexer": "ipython3",
   "version": "3.12.7"
  }
 },
 "nbformat": 4,
 "nbformat_minor": 5
}
